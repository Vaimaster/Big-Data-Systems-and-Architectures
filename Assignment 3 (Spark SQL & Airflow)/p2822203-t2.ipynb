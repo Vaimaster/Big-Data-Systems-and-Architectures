{
 "cells": [
  {
   "attachments": {},
   "cell_type": "markdown",
   "metadata": {},
   "source": [
    "# <span style=\"font-size: 1em\">Spark</span><span style=\"font-size: 0.8em\"> Assignment</span>\n",
    "<h3>Big Data Systems 2022-2023</h3>\n",
    "<h5>M.Sc. In Business Analytics (Part Time) 2022-2024 at Athens University of Economics and Business (A.U.E.B.)</h5>\n",
    "<hr>\n",
    "\n",
    "> Student: Panagiotis G. Vaidomarkakis<br />\n",
    "> Student I.D.: p2822203<br />\n",
    "> Tutor: Thanasis Vergoulis<br />\n",
    "> Due Date: 15/04/2023"
   ]
  },
  {
   "attachments": {},
   "cell_type": "markdown",
   "metadata": {},
   "source": [
    "## Table Of Contents:\n",
    "* [Importing Libraries](#first-bullet)\n",
    "* [$1^{st}$ Question](#q1)\n",
    "* [$2^{nd}$ Question](#q2)\n",
    "* [$3^{rd}$ Question](#q3)"
   ]
  },
  {
   "attachments": {},
   "cell_type": "markdown",
   "metadata": {},
   "source": [
    "## Importing Libraries <a class=\"anchor\" id=\"first-bullet\"></a>\n",
    "In the following lines, we will import all the nessecary liblaries in order to be able to execute all the following commands. <br> First, we will run a check to see if the PC containing this Jupiter Notebook file has all the necessary libraries and if it hasn't, it will automatically download them in order to import them:"
   ]
  },
  {
   "cell_type": "code",
   "execution_count": 1,
   "metadata": {},
   "outputs": [
    {
     "name": "stdout",
     "output_type": "stream",
     "text": [
      "pyspark is already installed.\n",
      "pyspark.sql is already installed.\n",
      "pyspark.sql.functions is already installed.\n"
     ]
    }
   ],
   "source": [
    "import importlib\n",
    "import subprocess\n",
    "\n",
    "def install_library(lib):\n",
    "    try:\n",
    "        importlib.import_module(lib)\n",
    "        print(f'{lib} is already installed.')\n",
    "    except ImportError:\n",
    "        print(f'{lib} is not installed. Installing now...')\n",
    "        subprocess.call(['pip ', 'install ', lib])\n",
    "\n",
    "libraries = ['pyspark','pyspark.sql','pyspark.sql.functions']\n",
    "\n",
    "for lib in libraries:\n",
    "    install_library(lib)"
   ]
  },
  {
   "cell_type": "code",
   "execution_count": 2,
   "metadata": {},
   "outputs": [],
   "source": [
    "from pyspark.sql import SparkSession\n",
    "from pyspark.sql.functions import col"
   ]
  },
  {
   "attachments": {},
   "cell_type": "markdown",
   "metadata": {},
   "source": [
    "## $1^{st}$ Question <a class=\"anchor\" id=\"q1\"></a>\n",
    "Use the *json()* function to load the dataset.<br>\n",
    "After that, return the *<b>“title” & “year”</b>* of the movie with the <b>largest *“users_rating”*</b> that its\n",
    "title starts with the *<b>first letter</b>* of your *<b>last name</b>*."
   ]
  },
  {
   "cell_type": "code",
   "execution_count": 3,
   "metadata": {},
   "outputs": [],
   "source": [
    "# Create a SparkSession\n",
    "spark = SparkSession.builder.appName('Loading JSON Data').getOrCreate()"
   ]
  },
  {
   "cell_type": "code",
   "execution_count": 4,
   "metadata": {},
   "outputs": [],
   "source": [
    "# Load the JSON data as a DataFrame using the json() function and create a temporary view movies\n",
    "json_movie = spark.read.json('movie.json')\n",
    "json_movie.createOrReplaceTempView(\"movies\")\n",
    "json_movie.show(5)"
   ]
  },
  {
   "cell_type": "code",
   "execution_count": 5,
   "metadata": {},
   "outputs": [
    {
     "name": "stdout",
     "output_type": "stream",
     "text": [
      "Title: Violet\n",
      "Year: 2020\n"
     ]
    }
   ],
   "source": [
    "# filter the DataFrame to get all movies that start with \"V\"\n",
    "filtered_json_movie = json_movie.filter(col(\"title\").startswith(\"V\"))\n",
    "\n",
    "# get the highest user rating movie\n",
    "max_rating = filtered_json_movie.agg({\"users_rating\": \"max\"}).collect()[0][0]\n",
    "highest_rated_movie = filtered_json_movie.filter(col(\"users_rating\") == max_rating).first()\n",
    "\n",
    "# print the title and year of the highest rated movie\n",
    "print(\"Title:\", highest_rated_movie.title)\n",
    "print(\"Year:\", highest_rated_movie.year)"
   ]
  },
  {
   "attachments": {},
   "cell_type": "markdown",
   "metadata": {},
   "source": [
    "Using SparkSQL below:"
   ]
  },
  {
   "cell_type": "code",
   "execution_count": 6,
   "metadata": {},
   "outputs": [
    {
     "name": "stdout",
     "output_type": "stream",
     "text": [
      "-RECORD 0-------\n",
      " title | Violet \n",
      " year  | 2020   \n",
      "\n"
     ]
    }
   ],
   "source": [
    "# Use SQL to return the title and year of the movie with the largest users_rating that its title starts with 'V'\n",
    "spark.sql(\"SELECT title, year FROM movies WHERE title LIKE 'V%' ORDER BY users_rating DESC LIMIT 1\").show(2,False,True)"
   ]
  },
  {
   "attachments": {},
   "cell_type": "markdown",
   "metadata": {},
   "source": [
    "## $2^{nd}$ Question <a class=\"anchor\" id=\"q2\"></a>\n",
    "Return the *<b>average “users_rating”</b>* of the movies that their title starts with the *<b>second</b>* letter of your *<b>last name</b>*."
   ]
  },
  {
   "cell_type": "code",
   "execution_count": 7,
   "metadata": {},
   "outputs": [
    {
     "name": "stdout",
     "output_type": "stream",
     "text": [
      "Average users_rating of movies that have second letter 'A' of my last name: 6.56\n"
     ]
    }
   ],
   "source": [
    "# filter the DataFrame to get movies that have second letter 'A'\n",
    "filtered_json_movie = json_movie.filter(col(\"title\").substr(2, 1) == \"A\")\n",
    "average_rating = filtered_json_movie.agg({\"users_rating\": \"avg\"}).collect()[0][0]\n",
    "\n",
    "# print the average users_rating\n",
    "print(\"Average users_rating of movies that have second letter 'A' of my last name:\", average_rating)"
   ]
  },
  {
   "attachments": {},
   "cell_type": "markdown",
   "metadata": {},
   "source": [
    "Using SparkSQL below:"
   ]
  },
  {
   "cell_type": "code",
   "execution_count": 8,
   "metadata": {},
   "outputs": [
    {
     "name": "stdout",
     "output_type": "stream",
     "text": [
      "Average users_rating of movies that have second letter 'A' of my last name: 6.56\n"
     ]
    }
   ],
   "source": [
    "# calculate using SparkSQL the average users_rating of movies that have second letter 'A'\n",
    "result_json_movie = spark.sql(\"SELECT AVG(users_rating) as avg_rating FROM movies WHERE SUBSTR(title, 2, 1) = 'A'\")\n",
    "average_rating = result_json_movie.collect()[0].avg_rating\n",
    "\n",
    "# print the average users_rating\n",
    "print(\"Average users_rating of movies that have second letter 'A' of my last name:\", average_rating)"
   ]
  },
  {
   "attachments": {},
   "cell_type": "markdown",
   "metadata": {},
   "source": [
    "## $3^{rd}$ Question <a class=\"anchor\" id=\"q3\"></a>\n",
    "Return the *<b>“title” & “year”</b>* of the movie with the *<b>most votes</b>*, when only movies with title starting with the *<b>third</b>* letter of your *<b>last name</b>* are considered."
   ]
  },
  {
   "cell_type": "code",
   "execution_count": 9,
   "metadata": {},
   "outputs": [
    {
     "name": "stdout",
     "output_type": "stream",
     "text": [
      "Title: L.I.E.\n",
      "Year: 2001\n"
     ]
    }
   ],
   "source": [
    "# filter the DataFrame to get movies that have third letter 'I'\n",
    "filtered_json_movie = json_movie.filter(col(\"title\").substr(3, 1) == \"I\")\n",
    "\n",
    "# get the movie with the most votes\n",
    "most_voted_movie = filtered_json_movie.orderBy(col(\"votes\").desc()).first()\n",
    "\n",
    "# print the title and year of the most voted movie\n",
    "print(\"Title:\", most_voted_movie.title)\n",
    "print(\"Year:\", most_voted_movie.year)"
   ]
  },
  {
   "attachments": {},
   "cell_type": "markdown",
   "metadata": {},
   "source": [
    "Using SparkSQL below:"
   ]
  },
  {
   "cell_type": "code",
   "execution_count": 10,
   "metadata": {},
   "outputs": [
    {
     "name": "stdout",
     "output_type": "stream",
     "text": [
      "-RECORD 0-------\n",
      " title | L.I.E. \n",
      " year  | 2001   \n",
      "\n"
     ]
    }
   ],
   "source": [
    "# get the title and year of the movie with the most votes, when only movies with a title that have third letter 'I' are considered using Spark SQL\n",
    "spark.sql(\"SELECT title, year FROM movies WHERE SUBSTR(title, 3, 1) = 'I' ORDER BY votes DESC LIMIT 1\").show(2,False,True)"
   ]
  }
 ],
 "metadata": {
  "kernelspec": {
   "display_name": "Python 3",
   "language": "python",
   "name": "python3"
  },
  "language_info": {
   "codemirror_mode": {
    "name": "ipython",
    "version": 3
   },
   "file_extension": ".py",
   "mimetype": "text/x-python",
   "name": "python",
   "nbconvert_exporter": "python",
   "pygments_lexer": "ipython3",
   "version": "3.10.11"
  },
  "orig_nbformat": 4
 },
 "nbformat": 4,
 "nbformat_minor": 2
}
