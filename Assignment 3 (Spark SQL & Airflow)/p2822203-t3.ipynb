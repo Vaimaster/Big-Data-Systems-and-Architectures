{
 "cells": [
  {
   "attachments": {},
   "cell_type": "markdown",
   "metadata": {},
   "source": [
    "# <span style=\"font-size: 1em\">Spark</span><span style=\"font-size: 0.8em\"> Assignment</span>\n",
    "<h3>Big Data Systems 2022-2023</h3>\n",
    "<h5>M.Sc. In Business Analytics (Part Time) 2022-2024 at Athens University of Economics and Business (A.U.E.B.)</h5>\n",
    "<hr>\n",
    "\n",
    "> Student: Panagiotis G. Vaidomarkakis<br />\n",
    "> Student I.D.: p2822203<br />\n",
    "> Tutor: Thanasis Vergoulis<br />\n",
    "> Due Date: 15/04/2023"
   ]
  },
  {
   "attachments": {},
   "cell_type": "markdown",
   "metadata": {},
   "source": [
    "## Table Of Contents:\n",
    "* [Importing Libraries](#first-bullet)\n",
    "* [$1^{st}$ Question](#q1)\n",
    "* [$2^{nd}$ Question](#q2)\n",
    "* [$3^{rd}$ Question](#q3)\n",
    "* [$4^{th}$ Question](#q4)"
   ]
  },
  {
   "attachments": {},
   "cell_type": "markdown",
   "metadata": {},
   "source": [
    "## Importing Libraries <a class=\"anchor\" id=\"first-bullet\"></a>\n",
    "In the following lines, we will import all the nessecary liblaries in order to be able to execute all the following commands. <br> First, we will run a check to see if the PC containing this Jupiter Notebook file has all the necessary libraries and if it hasn't, it will automatically download them in order to import them:"
   ]
  },
  {
   "cell_type": "code",
   "execution_count": 1,
   "metadata": {},
   "outputs": [
    {
     "name": "stdout",
     "output_type": "stream",
     "text": [
      "pyspark is already installed.\n",
      "pyspark.sql is already installed.\n",
      "pyspark.ml.feature is already installed.\n",
      "pyspark.ml.evaluation is already installed.\n"
     ]
    }
   ],
   "source": [
    "import importlib\n",
    "import subprocess\n",
    "\n",
    "def install_library(lib):\n",
    "    try:\n",
    "        importlib.import_module(lib)\n",
    "        print(f'{lib} is already installed.')\n",
    "    except ImportError:\n",
    "        print(f'{lib} is not installed. Installing now...')\n",
    "        subprocess.call(['pip ', 'install ', lib])\n",
    "\n",
    "libraries = ['pyspark','pyspark.sql','pyspark.ml.feature', 'pyspark.ml.evaluation']\n",
    "\n",
    "for lib in libraries:\n",
    "    install_library(lib)"
   ]
  },
  {
   "cell_type": "code",
   "execution_count": 2,
   "metadata": {},
   "outputs": [],
   "source": [
    "from pyspark.sql import SparkSession\n",
    "from pyspark.sql.window import Window\n",
    "from pyspark.sql.functions import array, col, mean, when, isnan, count, ntile, floor, round, max\n",
    "from pyspark.ml.feature import OneHotEncoder, StringIndexer, VectorAssembler\n",
    "from pyspark.ml import Pipeline\n",
    "from pyspark.ml.regression import LinearRegression\n",
    "from pyspark.ml.evaluation import RegressionEvaluator"
   ]
  },
  {
   "attachments": {},
   "cell_type": "markdown",
   "metadata": {},
   "source": [
    "## $1^{st}$ Question <a class=\"anchor\" id=\"q1\"></a>\n",
    "Use the *json()* function to load the dataset.<br>\n",
    "After that, prepare the feature vectors."
   ]
  },
  {
   "cell_type": "code",
   "execution_count": 3,
   "metadata": {},
   "outputs": [],
   "source": [
    "# Create a SparkSession\n",
    "spark = SparkSession.builder.appName('Loading JSON Data').getOrCreate()"
   ]
  },
  {
   "cell_type": "code",
   "execution_count": 4,
   "metadata": {},
   "outputs": [
    {
     "name": "stdout",
     "output_type": "stream",
     "text": [
      "+---------------+--------------------+---------+--------------------+--------------------+------------------+--------------------+--------------------+-----------------+---------+------+-------+--------------------+--------------------+------------+-------+----+\n",
      "|_corrupt_record|              actors|countries|         description|           directors|             genre|            imdb_url|             img_url|        languages|metascore|rating|runtime|             tagline|               title|users_rating|  votes|year|\n",
      "+---------------+--------------------+---------+--------------------+--------------------+------------------+--------------------+--------------------+-----------------+---------+------+-------+--------------------+--------------------+------------+-------+----+\n",
      "|              [|                null|     null|                null|                null|              null|                null|                null|             null|     null|  null|   null|                null|                null|        null|   null|null|\n",
      "|           null|[Timothée Chalame...|    [USA]|A young couple ar...|       [Woody Allen]| [Comedy, Romance]|https://www.imdb....|https://m.media-a...|        [English]|       44| PG-13| 92 min|                null|A Rainy Day in Ne...|         6.6| 21,903|2019|\n",
      "|           null|[Emilia Clarke, H...|    [USA]|Creepy, terrifyin...|[Michael Escobedo...|[Horror, Thriller]|https://www.imdb....|https://m.media-a...|        [English]|     null|    18| 91 min|When it comes to ...|       Murder Manual|         2.4|    192|2020|\n",
      "|           null|[Matthew Broderic...|    [USA]|A high school wis...|       [John Hughes]|          [Comedy]|https://www.imdb....|https://m.media-a...|[English, German]|       61| PG-13|103 min|Because life is t...|Ferris Bueller's ...|         7.8|308,847|1986|\n",
      "|           null|[Robert De Niro, ...|    [USA]|A convicted rapis...|   [Martin Scorsese]| [Crime, Thriller]|https://www.imdb....|https://m.media-a...|        [English]|       73|     R|128 min|There is nothing ...|           Cape Fear|         7.3|165,628|1991|\n",
      "+---------------+--------------------+---------+--------------------+--------------------+------------------+--------------------+--------------------+-----------------+---------+------+-------+--------------------+--------------------+------------+-------+----+\n",
      "only showing top 5 rows\n",
      "\n"
     ]
    }
   ],
   "source": [
    "# Load the JSON data as a DataFrame using the json() function\n",
    "json_movie = spark.read.json('movie.json')\n",
    "json_movie.show(5)"
   ]
  },
  {
   "cell_type": "code",
   "execution_count": 5,
   "metadata": {},
   "outputs": [
    {
     "name": "stdout",
     "output_type": "stream",
     "text": [
      "+---------+-------+------------------+--------------------+------------+\n",
      "|metascore|runtime|             genre|           languages|users_rating|\n",
      "+---------+-------+------------------+--------------------+------------+\n",
      "|       44| 92 min| [Comedy, Romance]|           [English]|         6.6|\n",
      "|     null| 91 min|[Horror, Thriller]|           [English]|         2.4|\n",
      "|       61|103 min|          [Comedy]|   [English, German]|         7.8|\n",
      "|       73|128 min| [Crime, Thriller]|           [English]|         7.3|\n",
      "|       66| 97 min|          [Comedy]|[English, German,...|         7.0|\n",
      "+---------+-------+------------------+--------------------+------------+\n",
      "only showing top 5 rows\n",
      "\n",
      "root\n",
      " |-- metascore: string (nullable = true)\n",
      " |-- runtime: string (nullable = true)\n",
      " |-- genre: array (nullable = true)\n",
      " |    |-- element: string (containsNull = true)\n",
      " |-- languages: array (nullable = true)\n",
      " |    |-- element: string (containsNull = true)\n",
      " |-- users_rating: string (nullable = true)\n",
      "\n"
     ]
    }
   ],
   "source": [
    "# Keep only columns that I want to have in my prediction and remove null when the whole row is null\n",
    "json_movie_in = json_movie.select(\"metascore\", \"runtime\", \"genre\", \"languages\", \"users_rating\").dropna(how=\"all\")\n",
    "json_movie_in.show(5)\n",
    "json_movie_in.printSchema()"
   ]
  },
  {
   "attachments": {},
   "cell_type": "markdown",
   "metadata": {},
   "source": [
    "Now I need to keep only the first genre and first language."
   ]
  },
  {
   "cell_type": "code",
   "execution_count": 6,
   "metadata": {},
   "outputs": [
    {
     "name": "stdout",
     "output_type": "stream",
     "text": [
      "+---------+-------+------------+--------------+-----------+\n",
      "|metascore|runtime|users_rating|first_language|first_genre|\n",
      "+---------+-------+------------+--------------+-----------+\n",
      "|       44| 92 min|         6.6|        Comedy|    English|\n",
      "|     null| 91 min|         2.4|        Horror|    English|\n",
      "|       61|103 min|         7.8|        Comedy|    English|\n",
      "|       73|128 min|         7.3|         Crime|    English|\n",
      "|       66| 97 min|         7.0|        Comedy|    English|\n",
      "+---------+-------+------------+--------------+-----------+\n",
      "only showing top 5 rows\n",
      "\n",
      "root\n",
      " |-- metascore: string (nullable = true)\n",
      " |-- runtime: string (nullable = true)\n",
      " |-- users_rating: string (nullable = true)\n",
      " |-- first_language: string (nullable = true)\n",
      " |-- first_genre: string (nullable = true)\n",
      "\n"
     ]
    }
   ],
   "source": [
    "json_movie_in = json_movie_in.withColumn(\"first_language\", col('genre')[0]) \\\n",
    "       .withColumn(\"first_genre\", col('languages')[0]) \\\n",
    "       .drop(\"languages\", \"genre\")\n",
    "json_movie_in.show(5)\n",
    "json_movie_in.printSchema()"
   ]
  },
  {
   "attachments": {},
   "cell_type": "markdown",
   "metadata": {},
   "source": [
    "Now, we need to fix the schema in order to be correct"
   ]
  },
  {
   "cell_type": "code",
   "execution_count": 7,
   "metadata": {},
   "outputs": [
    {
     "name": "stdout",
     "output_type": "stream",
     "text": [
      "root\n",
      " |-- metascore: integer (nullable = true)\n",
      " |-- runtime: integer (nullable = true)\n",
      " |-- users_rating: float (nullable = true)\n",
      " |-- first_language: string (nullable = true)\n",
      " |-- first_genre: string (nullable = true)\n",
      "\n"
     ]
    }
   ],
   "source": [
    "json_movie_in = json_movie_in.withColumn(\"metascore\", col(\"metascore\").cast(\"int\"))\n",
    "json_movie_in = json_movie_in.withColumn(\"runtime\", col(\"runtime\").substr(1, 3).cast(\"int\"))\n",
    "json_movie_in = json_movie_in.withColumn(\"users_rating\", col(\"users_rating\").cast(\"float\"))\n",
    "json_movie_in.printSchema()"
   ]
  },
  {
   "attachments": {},
   "cell_type": "markdown",
   "metadata": {},
   "source": [
    "Now, that we have the right schema (the right columns), we need to see what we can do with NULL values."
   ]
  },
  {
   "cell_type": "code",
   "execution_count": 8,
   "metadata": {},
   "outputs": [
    {
     "name": "stdout",
     "output_type": "stream",
     "text": [
      "+---------+-------+------------+--------------+-----------+\n",
      "|metascore|runtime|users_rating|first_language|first_genre|\n",
      "+---------+-------+------------+--------------+-----------+\n",
      "|    52447|  12176|           2|          1252|          0|\n",
      "+---------+-------+------------+--------------+-----------+\n",
      "\n"
     ]
    }
   ],
   "source": [
    "json_movie_in.select([count(when(col(c).isNull(), c)).alias(c) for c in json_movie_in.columns]).show()"
   ]
  },
  {
   "attachments": {},
   "cell_type": "markdown",
   "metadata": {},
   "source": [
    "We have many NULL values in metascore and runtime so we need to do something about that."
   ]
  },
  {
   "cell_type": "code",
   "execution_count": 9,
   "metadata": {},
   "outputs": [
    {
     "name": "stdout",
     "output_type": "stream",
     "text": [
      "+---------+-------+------------+--------------+-----------+------------------+\n",
      "|metascore|runtime|users_rating|first_language|first_genre|users_rating_group|\n",
      "+---------+-------+------------+--------------+-----------+------------------+\n",
      "|       44|     92|         6.6|        Comedy|    English|                13|\n",
      "|     null|     91|         2.4|        Horror|    English|                 4|\n",
      "|       61|    103|         7.8|        Comedy|    English|                15|\n",
      "|       73|    128|         7.3|         Crime|    English|                14|\n",
      "|       66|     97|         7.0|        Comedy|    English|                14|\n",
      "+---------+-------+------------+--------------+-----------+------------------+\n",
      "only showing top 5 rows\n",
      "\n"
     ]
    }
   ],
   "source": [
    "json_movie_in = json_movie_in.withColumn(\"users_rating_group\", floor(json_movie_in[\"users_rating\"] * 2))  # multiply by 2 and floor to get some group number\n",
    "json_movie_in.show(5)"
   ]
  },
  {
   "cell_type": "code",
   "execution_count": 10,
   "metadata": {},
   "outputs": [
    {
     "name": "stdout",
     "output_type": "stream",
     "text": [
      "+---------+-------+------------+--------------+-----------+------------------+-------------+\n",
      "|metascore|runtime|users_rating|first_language|first_genre|users_rating_group|runtime_group|\n",
      "+---------+-------+------------+--------------+-----------+------------------+-------------+\n",
      "|       44|     92|         6.6|        Comedy|    English|                13|           18|\n",
      "|     null|     91|         2.4|        Horror|    English|                 4|           18|\n",
      "|       61|    103|         7.8|        Comedy|    English|                15|           20|\n",
      "|       73|    128|         7.3|         Crime|    English|                14|           25|\n",
      "|       66|     97|         7.0|        Comedy|    English|                14|           19|\n",
      "+---------+-------+------------+--------------+-----------+------------------+-------------+\n",
      "only showing top 5 rows\n",
      "\n"
     ]
    }
   ],
   "source": [
    "json_movie_in = json_movie_in.withColumn(\"runtime_group\", (json_movie_in.runtime / 5).cast(\"integer\"))  # divide by 5 to get some group number\n",
    "json_movie_in.show(5)"
   ]
  },
  {
   "cell_type": "code",
   "execution_count": 11,
   "metadata": {},
   "outputs": [
    {
     "name": "stdout",
     "output_type": "stream",
     "text": [
      "+---------+-------+------------+--------------+-----------+------------------+-------------+---------------+\n",
      "|metascore|runtime|users_rating|first_language|first_genre|users_rating_group|runtime_group|metascore_group|\n",
      "+---------+-------+------------+--------------+-----------+------------------+-------------+---------------+\n",
      "|       44|     92|         6.6|        Comedy|    English|                13|           18|              8|\n",
      "|     null|     91|         2.4|        Horror|    English|                 4|           18|           null|\n",
      "|       61|    103|         7.8|        Comedy|    English|                15|           20|             12|\n",
      "|       73|    128|         7.3|         Crime|    English|                14|           25|             14|\n",
      "|       66|     97|         7.0|        Comedy|    English|                14|           19|             13|\n",
      "+---------+-------+------------+--------------+-----------+------------------+-------------+---------------+\n",
      "only showing top 5 rows\n",
      "\n"
     ]
    }
   ],
   "source": [
    "json_movie_in = json_movie_in.withColumn(\"metascore_group\", (json_movie_in.metascore / 5).cast(\"integer\"))  # divide by 5 to get group number\n",
    "json_movie_in.show(5)"
   ]
  },
  {
   "cell_type": "code",
   "execution_count": 12,
   "metadata": {},
   "outputs": [
    {
     "name": "stdout",
     "output_type": "stream",
     "text": [
      "+-----------+--------------+---------+-------+------------+\n",
      "|first_genre|first_language|metascore|runtime|users_rating|\n",
      "+-----------+--------------+---------+-------+------------+\n",
      "|    English|        Comedy|       61|    103|         7.8|\n",
      "|    English|       Fantasy|       64|     87|         5.3|\n",
      "|    English|         Crime|       73|    128|         7.3|\n",
      "|    English|        Comedy|       66|     97|         7.0|\n",
      "|    English|        Comedy|       44|     92|         6.6|\n",
      "+-----------+--------------+---------+-------+------------+\n",
      "only showing top 5 rows\n",
      "\n"
     ]
    }
   ],
   "source": [
    "# calculate mean of each group for metascore, runtime, and users_rating\n",
    "metascore_means = json_movie_in.groupBy(['first_language', 'first_genre', 'users_rating_group', 'runtime_group']).agg(mean('metascore').alias('meta_mean'))\n",
    "runtime_means = json_movie_in.groupBy(['first_language', 'first_genre', 'users_rating_group', 'metascore_group']).agg(mean('runtime').alias('runtime_mean'))\n",
    "users_rating_means = json_movie_in.groupBy(['first_language', 'first_genre', 'metascore_group', 'runtime_group']).agg(mean('users_rating').alias('rating_mean'))\n",
    "first_language_means = json_movie_in.groupBy(['first_genre', 'metascore_group', 'runtime_group','users_rating_group']).agg(max('first_language').alias('language_max'))\n",
    "\n",
    "# join the means dataframes with the original dataframe\n",
    "json_movie_in = json_movie_in.join(metascore_means, on=['first_language', 'first_genre', 'users_rating_group', 'runtime_group'], how='left')\n",
    "json_movie_in = json_movie_in.join(runtime_means, on=['first_language', 'first_genre', 'users_rating_group', 'metascore_group'], how='left')\n",
    "json_movie_in = json_movie_in.join(users_rating_means, on=['first_language', 'first_genre', 'metascore_group', 'runtime_group'], how='left')\n",
    "json_movie_in = json_movie_in.join(first_language_means, on=['first_genre', 'metascore_group', 'runtime_group','users_rating_group'], how='left')\n",
    "\n",
    "# fill missing values in metascore, runtime, and users_rating using the mean of corresponding group\n",
    "json_movie_in = json_movie_in.withColumn('metascore', when(json_movie_in['metascore'].isNull(), json_movie_in['meta_mean']).otherwise(json_movie_in['metascore']))\n",
    "json_movie_in = json_movie_in.withColumn('runtime', when(json_movie_in['runtime'].isNull(), json_movie_in['runtime_mean']).otherwise(json_movie_in['runtime']))\n",
    "json_movie_in = json_movie_in.withColumn('users_rating', when(json_movie_in['users_rating'].isNull(), json_movie_in['rating_mean']).otherwise(json_movie_in['users_rating']))\n",
    "json_movie_in = json_movie_in.withColumn('first_language', when(json_movie_in['first_language'].isNull(), json_movie_in['language_max']).otherwise(json_movie_in['first_language']))\n",
    "\n",
    "# drop all the uneccesary columns\n",
    "json_movie_in = json_movie_in.drop('meta_mean', 'runtime_mean', 'rating_mean','metascore_group', 'runtime_group', 'users_rating_group', 'language_max')\n",
    "\n",
    "# fix the values again so we have the right schema\n",
    "json_movie_in = json_movie_in.withColumn(\"users_rating\", round(\"users_rating\", 1))\n",
    "json_movie_in = json_movie_in.withColumn(\"metascore\", col(\"metascore\").cast(\"int\"))\n",
    "json_movie_in = json_movie_in.withColumn(\"runtime\", col(\"runtime\").substr(1, 3).cast(\"int\"))\n",
    "json_movie_in.show(5)"
   ]
  },
  {
   "cell_type": "code",
   "execution_count": 13,
   "metadata": {},
   "outputs": [
    {
     "name": "stdout",
     "output_type": "stream",
     "text": [
      "+-----------+--------------+---------+-------+------------+\n",
      "|first_genre|first_language|metascore|runtime|users_rating|\n",
      "+-----------+--------------+---------+-------+------------+\n",
      "|          0|          1251|    25335|  11657|           2|\n",
      "+-----------+--------------+---------+-------+------------+\n",
      "\n"
     ]
    }
   ],
   "source": [
    "json_movie_in.select([count(when(col(c).isNull(), c)).alias(c) for c in json_movie_in.columns]).show()"
   ]
  },
  {
   "attachments": {},
   "cell_type": "markdown",
   "metadata": {},
   "source": [
    "In the above steps, we tried to replace the missing values based on the mean. We didn't just take the mean because each movie has different genre, language, runtime, metascore and user rating. We tried to group the values based on genre and language and then we categorize metascore, runtime and users_rating. Then, we took the mean for each of these groups in order to fill some missing values. The result of the missing values that we could fill is above. If we try to fill rest of them, we will not have good results so now we need to drop NA's."
   ]
  },
  {
   "cell_type": "code",
   "execution_count": 14,
   "metadata": {},
   "outputs": [
    {
     "name": "stdout",
     "output_type": "stream",
     "text": [
      "+-----------+--------------+---------+-------+------------+\n",
      "|first_genre|first_language|metascore|runtime|users_rating|\n",
      "+-----------+--------------+---------+-------+------------+\n",
      "|    English|        Comedy|       25|     89|         3.1|\n",
      "|    English|         Crime|       45|    114|         5.9|\n",
      "|    English|        Comedy|       13|     89|         3.1|\n",
      "|    English|        Comedy|       25|     88|         3.4|\n",
      "|    English|        Comedy|       21|     89|         3.3|\n",
      "+-----------+--------------+---------+-------+------------+\n",
      "only showing top 5 rows\n",
      "\n"
     ]
    }
   ],
   "source": [
    "json_movie_in = json_movie_in.dropna()\n",
    "json_movie_in.show(5)"
   ]
  },
  {
   "cell_type": "code",
   "execution_count": 15,
   "metadata": {},
   "outputs": [
    {
     "name": "stdout",
     "output_type": "stream",
     "text": [
      "+-----------+--------------+---------+-------+------------+\n",
      "|first_genre|first_language|metascore|runtime|users_rating|\n",
      "+-----------+--------------+---------+-------+------------+\n",
      "|          0|             0|        0|      0|           0|\n",
      "+-----------+--------------+---------+-------+------------+\n",
      "\n"
     ]
    },
    {
     "data": {
      "text/plain": [
       "36661"
      ]
     },
     "execution_count": 15,
     "metadata": {},
     "output_type": "execute_result"
    }
   ],
   "source": [
    "json_movie_in.select([count(when(col(c).isNull(), c)).alias(c) for c in json_movie_in.columns]).show()\n",
    "json_movie_in.count()"
   ]
  },
  {
   "attachments": {},
   "cell_type": "markdown",
   "metadata": {},
   "source": [
    "We left with 36,6K observations instead of 62K but we fill them based on the mean of similar movies. If we just drop all NA's from the beginning, we would have left with less than 10k observations for the model."
   ]
  },
  {
   "attachments": {},
   "cell_type": "markdown",
   "metadata": {},
   "source": [
    "## $2^{nd}$ Question <a class=\"anchor\" id=\"q2\"></a>\n",
    "Preparation of the training and testing datasets (85%-15%)"
   ]
  },
  {
   "cell_type": "code",
   "execution_count": 16,
   "metadata": {},
   "outputs": [
    {
     "name": "stdout",
     "output_type": "stream",
     "text": [
      "31098\n",
      "5488\n"
     ]
    }
   ],
   "source": [
    "trainDF, testDF = json_movie_in.randomSplit([0.85, 0.15], seed=42)\n",
    "\n",
    "print(trainDF.cache().count()) # Cache because accessing training data multiple times\n",
    "\n",
    "print(testDF.count())"
   ]
  },
  {
   "attachments": {},
   "cell_type": "markdown",
   "metadata": {},
   "source": [
    "We will deal now with categorical variables like genre and language and we will transform them using one-hot encoding."
   ]
  },
  {
   "cell_type": "code",
   "execution_count": 17,
   "metadata": {},
   "outputs": [
    {
     "name": "stdout",
     "output_type": "stream",
     "text": [
      "+-----------+--------------+---------+-------+------------+----------------+-------------------+\n",
      "|first_genre|first_language|metascore|runtime|users_rating|first_genreIndex|first_languageIndex|\n",
      "+-----------+--------------+---------+-------+------------+----------------+-------------------+\n",
      "|    English|        Comedy|       41|     94|         7.1|             0.0|                0.0|\n",
      "|    English|        Comedy|       41|    107|         7.3|             0.0|                0.0|\n",
      "|    English|        Comedy|       42|     97|         7.4|             0.0|                0.0|\n",
      "|    English|        Comedy|       44|    103|         7.1|             0.0|                0.0|\n",
      "|    English|        Comedy|       44|    107|         7.1|             0.0|                0.0|\n",
      "|    English|        Comedy|       44|    110|         7.0|             0.0|                0.0|\n",
      "|    English|         Drama|       85|     98|         7.5|             0.0|                1.0|\n",
      "+-----------+--------------+---------+-------+------------+----------------+-------------------+\n",
      "only showing top 7 rows\n",
      "\n"
     ]
    }
   ],
   "source": [
    "# We determine which of the columns are categorical.\n",
    "categoricalCols = ['first_genre','first_language']\n",
    "\n",
    "# The following two lines are estimators. They return functions that we will later apply to transform the dataset.\n",
    "stringIndexer = StringIndexer(inputCols=categoricalCols, outputCols=[x + \"Index\" for x in categoricalCols], handleInvalid=\"keep\") \n",
    "encoder = OneHotEncoder(inputCols=stringIndexer.getOutputCols(), outputCols=[x + \"OHE\" for x in categoricalCols])\n",
    "\n",
    "stringIndexerModel = stringIndexer.fit(trainDF)\n",
    "stringIndexerModel.transform(trainDF).show(7)"
   ]
  },
  {
   "attachments": {},
   "cell_type": "markdown",
   "metadata": {},
   "source": [
    "We will put now all the variables in one vector"
   ]
  },
  {
   "cell_type": "code",
   "execution_count": 18,
   "metadata": {},
   "outputs": [],
   "source": [
    "# This includes both the numeric columns and the one-hot encoded binary vector columns in our dataset.\n",
    "numericCols = ['metascore', 'runtime']\n",
    "assemblerInputs = [c + \"OHE\" for c in categoricalCols] + numericCols\n",
    "vecAssembler = VectorAssembler(inputCols=assemblerInputs, outputCol=\"features\")"
   ]
  },
  {
   "attachments": {},
   "cell_type": "markdown",
   "metadata": {},
   "source": [
    "## $3^{rd}$ Question <a class=\"anchor\" id=\"q3\"></a>\n",
    "Train the model"
   ]
  },
  {
   "cell_type": "code",
   "execution_count": 19,
   "metadata": {},
   "outputs": [],
   "source": [
    "# train the model using linear regression\n",
    "lr = LinearRegression(featuresCol=\"features\", labelCol=\"users_rating\", maxIter=10, regParam=0.3, elasticNetParam=0.8)"
   ]
  },
  {
   "attachments": {},
   "cell_type": "markdown",
   "metadata": {},
   "source": [
    "## $4^{th}$ Question <a class=\"anchor\" id=\"q4\"></a>\n",
    "Evaluate the accuracy of the model using $R^{2}$"
   ]
  },
  {
   "cell_type": "code",
   "execution_count": 20,
   "metadata": {},
   "outputs": [
    {
     "name": "stdout",
     "output_type": "stream",
     "text": [
      "+--------------------+------------+-----------------+\n",
      "|            features|users_rating|       prediction|\n",
      "+--------------------+------------+-----------------+\n",
      "|(63,[14,44,61,62]...|         5.6|5.562481871145322|\n",
      "|(63,[4,44,61,62],...|         6.6|5.562481871145322|\n",
      "|(63,[43,61,62],[1...|         7.2|5.393450589052653|\n",
      "|(63,[0,44,61,62],...|         2.9|3.998942511788143|\n",
      "|(63,[0,44,61,62],...|         2.5|3.998942511788143|\n",
      "+--------------------+------------+-----------------+\n",
      "only showing top 5 rows\n",
      "\n"
     ]
    }
   ],
   "source": [
    "# Define the pipeline based on the stages created in previous steps.\n",
    "pipeline = Pipeline(stages=[stringIndexer, encoder, vecAssembler, lr])\n",
    "\n",
    "# Define the pipeline model.\n",
    "pipelineModel = pipeline.fit(trainDF)\n",
    "\n",
    "# Apply the pipeline model to the test dataset to classify the respective samples.\n",
    "predDF = pipelineModel.transform(testDF)\n",
    "predDF.select('features', 'users_rating','prediction').show(5)"
   ]
  },
  {
   "cell_type": "code",
   "execution_count": 21,
   "metadata": {},
   "outputs": [
    {
     "name": "stdout",
     "output_type": "stream",
     "text": [
      "R-squared on test data = 62.47%\n"
     ]
    }
   ],
   "source": [
    "# evaluate the accuracy of the model using the test dataset\n",
    "evaluator = RegressionEvaluator(predictionCol=\"prediction\", labelCol=\"users_rating\", metricName=\"r2\")\n",
    "r2 = evaluator.evaluate(predDF)\n",
    "print(\"R-squared on test data = {:.2f}%\".format(r2*100))"
   ]
  }
 ],
 "metadata": {
  "kernelspec": {
   "display_name": "Python 3",
   "language": "python",
   "name": "python3"
  },
  "language_info": {
   "codemirror_mode": {
    "name": "ipython",
    "version": 3
   },
   "file_extension": ".py",
   "mimetype": "text/x-python",
   "name": "python",
   "nbconvert_exporter": "python",
   "pygments_lexer": "ipython3",
   "version": "3.10.11"
  },
  "orig_nbformat": 4
 },
 "nbformat": 4,
 "nbformat_minor": 2
}
